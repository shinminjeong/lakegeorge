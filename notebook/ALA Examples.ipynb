{
 "cells": [
  {
   "cell_type": "code",
   "execution_count": 1,
   "metadata": {},
   "outputs": [
    {
     "name": "stderr",
     "output_type": "stream",
     "text": [
      "Updating HTML index of packages in '.Library'\n",
      "Making 'packages.html' ... done\n"
     ]
    }
   ],
   "source": [
    "install.packages(\"ALA4R\")"
   ]
  },
  {
   "cell_type": "code",
   "execution_count": 2,
   "metadata": {},
   "outputs": [],
   "source": [
    "library(ALA4R)"
   ]
  },
  {
   "cell_type": "code",
   "execution_count": 9,
   "metadata": {},
   "outputs": [
    {
     "name": "stderr",
     "output_type": "stream",
     "text": [
      "also installing the dependencies ‘igraph’, ‘phangorn’\n",
      "\n",
      "Warning message in install.packages(to_install):\n",
      "“installation of package ‘igraph’ had non-zero exit status”Warning message in install.packages(to_install):\n",
      "“installation of package ‘jpeg’ had non-zero exit status”Warning message in install.packages(to_install):\n",
      "“installation of package ‘phangorn’ had non-zero exit status”Warning message in install.packages(to_install):\n",
      "“installation of package ‘phytools’ had non-zero exit status”Updating HTML index of packages in '.Library'\n",
      "Making 'packages.html' ... done\n"
     ]
    }
   ],
   "source": [
    "to_install <- c(\"igraph\",\"phangorn\")\n",
    "to_install <- c(\"plyr\",\"jpeg\",\"phytools\",\"ape\",\"leaflet\",\"vegan\",\"mgcv\",\"geosphere\",\"maps\",\"mapdata\",\"maptools\")\n",
    "to_install <- to_install[!sapply(to_install,requireNamespace,quietly=TRUE)]\n",
    "if(length(to_install)>0) install.packages(to_install)"
   ]
  },
  {
   "cell_type": "code",
   "execution_count": 8,
   "metadata": {},
   "outputs": [
    {
     "data": {
      "text/html": [
       "<table>\n",
       "<thead><tr><th scope=col>name</th><th scope=col>rank</th></tr></thead>\n",
       "<tbody>\n",
       "\t<tr><td>SPHENISCIFORMES        </td><td>order                  </td></tr>\n",
       "\t<tr><td>SPHENISCIDAE           </td><td>family                 </td></tr>\n",
       "\t<tr><td>Pygoscelis adeliae     </td><td>species                </td></tr>\n",
       "\t<tr><td>Eudyptes chrysolophus  </td><td>species                </td></tr>\n",
       "\t<tr><td>Megadyptes waitaha     </td><td>species                </td></tr>\n",
       "\t<tr><td>Pygoscelis adeliae     </td><td>species                </td></tr>\n",
       "\t<tr><td>Spheniscus magellanicus</td><td>species                </td></tr>\n",
       "\t<tr><td>Spheniscus magellanicus</td><td>species                </td></tr>\n",
       "\t<tr><td>Ixodes eudyptidis      </td><td>species                </td></tr>\n",
       "\t<tr><td>Aptenodytes patagonicus</td><td>species                </td></tr>\n",
       "</tbody>\n",
       "</table>\n"
      ],
      "text/latex": [
       "\\begin{tabular}{r|ll}\n",
       " name & rank\\\\\n",
       "\\hline\n",
       "\t SPHENISCIFORMES         & order                  \\\\\n",
       "\t SPHENISCIDAE            & family                 \\\\\n",
       "\t Pygoscelis adeliae      & species                \\\\\n",
       "\t Eudyptes chrysolophus   & species                \\\\\n",
       "\t Megadyptes waitaha      & species                \\\\\n",
       "\t Pygoscelis adeliae      & species                \\\\\n",
       "\t Spheniscus magellanicus & species                \\\\\n",
       "\t Spheniscus magellanicus & species                \\\\\n",
       "\t Ixodes eudyptidis       & species                \\\\\n",
       "\t Aptenodytes patagonicus & species                \\\\\n",
       "\\end{tabular}\n"
      ],
      "text/markdown": [
       "\n",
       "name | rank | \n",
       "|---|---|---|---|---|---|---|---|---|---|\n",
       "| SPHENISCIFORMES         | order                   | \n",
       "| SPHENISCIDAE            | family                  | \n",
       "| Pygoscelis adeliae      | species                 | \n",
       "| Eudyptes chrysolophus   | species                 | \n",
       "| Megadyptes waitaha      | species                 | \n",
       "| Pygoscelis adeliae      | species                 | \n",
       "| Spheniscus magellanicus | species                 | \n",
       "| Spheniscus magellanicus | species                 | \n",
       "| Ixodes eudyptidis       | species                 | \n",
       "| Aptenodytes patagonicus | species                 | \n",
       "\n",
       "\n"
      ],
      "text/plain": [
       "   name                    rank   \n",
       "1  SPHENISCIFORMES         order  \n",
       "2  SPHENISCIDAE            family \n",
       "3  Pygoscelis adeliae      species\n",
       "4  Eudyptes chrysolophus   species\n",
       "5  Megadyptes waitaha      species\n",
       "6  Pygoscelis adeliae      species\n",
       "7  Spheniscus magellanicus species\n",
       "8  Spheniscus magellanicus species\n",
       "9  Ixodes eudyptidis       species\n",
       "10 Aptenodytes patagonicus species"
      ]
     },
     "metadata": {},
     "output_type": "display_data"
    }
   ],
   "source": [
    "# Example 1: Name searching and taxonomic trees\n",
    "library(ape)\n",
    "sx <- search_fulltext(\"penguins\")\n",
    "(sx$data[,c(\"name\",\"rank\")])"
   ]
  },
  {
   "cell_type": "code",
   "execution_count": null,
   "metadata": {},
   "outputs": [],
   "source": []
  }
 ],
 "metadata": {
  "kernelspec": {
   "display_name": "R",
   "language": "R",
   "name": "ir"
  },
  "language_info": {
   "codemirror_mode": "r",
   "file_extension": ".r",
   "mimetype": "text/x-r-source",
   "name": "R",
   "pygments_lexer": "r",
   "version": "3.4.3"
  }
 },
 "nbformat": 4,
 "nbformat_minor": 2
}
